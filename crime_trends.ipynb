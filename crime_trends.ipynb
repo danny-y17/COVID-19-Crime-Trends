{
  "nbformat": 4,
  "nbformat_minor": 0,
  "metadata": {
    "colab": {
      "name": "crime_trends.ipynb",
      "provenance": [],
      "collapsed_sections": [],
      "authorship_tag": "ABX9TyPOgcYl/1emcCnxfGRYZ+xH",
      "include_colab_link": true
    },
    "kernelspec": {
      "name": "python3",
      "display_name": "Python 3"
    },
    "language_info": {
      "name": "python"
    }
  },
  "cells": [
    {
      "cell_type": "markdown",
      "metadata": {
        "id": "view-in-github",
        "colab_type": "text"
      },
      "source": [
        "<a href=\"https://colab.research.google.com/github/danny-y17/COVID-19-Crime-Trends/blob/main/crime_trends.ipynb\" target=\"_parent\"><img src=\"https://colab.research.google.com/assets/colab-badge.svg\" alt=\"Open In Colab\"/></a>"
      ]
    },
    {
      "cell_type": "markdown",
      "metadata": {
        "id": "W1-MlDaXV1_k"
      },
      "source": [
        "# **Data Collection**"
      ]
    },
    {
      "cell_type": "markdown",
      "metadata": {
        "id": "eTOvcX8vNrP6"
      },
      "source": [
        "**All data is based off filed complaints with the NYPD.**\n",
        "\n",
        "**The main goal of my project is to determine the trend of crimes in NYC since the pandemic (March 2020). It's as if crime rates have increased since COVID-19 due to the lost of jobs and mental strain it placed on people. My project will show what's actually going on in the streets of NYC with visualization.**"
      ]
    },
    {
      "cell_type": "markdown",
      "metadata": {
        "id": "Dax4adBTdWK5"
      },
      "source": [
        "**CURRENT SOURCES USED:**\n",
        "\n",
        "https://data.cityofnewyork.us/Public-Safety/NYC-crime\n",
        "\n",
        "https://data.cityofnewyork.us/Public-Safety/NYPD-Complaint-Data-Current-Year-To-Date-/5uac-w243/data\n",
        "\n",
        "https://www.nytimes.com/2021/09/22/upshot/murder-rise-2020.html\n",
        "\n",
        "https://abc7ny.com/nyc-crime-nypd-stats-new-york-city/11006492"
      ]
    },
    {
      "cell_type": "markdown",
      "metadata": {
        "id": "qyT7TkPaV9Py"
      },
      "source": [
        "Import pandas and load data"
      ]
    },
    {
      "cell_type": "code",
      "metadata": {
        "id": "5KFSXSfBWJgy"
      },
      "source": [
        "# data only contains information from since the beginning of the pandemic (March 2020) to current\n",
        "# import pandas\n",
        "import pandas as pd\n",
        "# import matplotlib\n",
        "import matplotlib.pyplot as plt\n",
        "# import matplot lib style library \n",
        "import matplotlib.style as style\n",
        "style.use('fivethirtyeight')\n",
        "\n",
        "# read csv data into a dataframe\n",
        "df = pd.read_csv('NYPD_Complaint_Data_Current__Year_To_Date_ .csv')"
      ],
      "execution_count": 570,
      "outputs": []
    },
    {
      "cell_type": "markdown",
      "metadata": {
        "id": "xmk83MzgGLGS"
      },
      "source": [
        "The data has already been filtered from March 2020 to current as I am focusing on crime trends since the start of the pandemic. First, I am going to check what we're dealing with by checking the size of the data and then the first 5 rows."
      ]
    },
    {
      "cell_type": "code",
      "metadata": {
        "colab": {
          "base_uri": "https://localhost:8080/",
          "height": 434
        },
        "id": "Se11DETVGIIL",
        "outputId": "eb006df2-e273-4240-e742-164ef9cf7a5a"
      },
      "source": [
        "print(df.shape[0],\"rows\",\"x\",df.shape[1],\"columns\")\n",
        "df.head()"
      ],
      "execution_count": 571,
      "outputs": [
        {
          "output_type": "stream",
          "name": "stdout",
          "text": [
            "321340 rows x 36 columns\n"
          ]
        },
        {
          "output_type": "execute_result",
          "data": {
            "text/html": [
              "<div>\n",
              "<style scoped>\n",
              "    .dataframe tbody tr th:only-of-type {\n",
              "        vertical-align: middle;\n",
              "    }\n",
              "\n",
              "    .dataframe tbody tr th {\n",
              "        vertical-align: top;\n",
              "    }\n",
              "\n",
              "    .dataframe thead th {\n",
              "        text-align: right;\n",
              "    }\n",
              "</style>\n",
              "<table border=\"1\" class=\"dataframe\">\n",
              "  <thead>\n",
              "    <tr style=\"text-align: right;\">\n",
              "      <th></th>\n",
              "      <th>CMPLNT_NUM</th>\n",
              "      <th>ADDR_PCT_CD</th>\n",
              "      <th>BORO_NM</th>\n",
              "      <th>CMPLNT_FR_DT</th>\n",
              "      <th>CMPLNT_FR_TM</th>\n",
              "      <th>CMPLNT_TO_DT</th>\n",
              "      <th>CMPLNT_TO_TM</th>\n",
              "      <th>CRM_ATPT_CPTD_CD</th>\n",
              "      <th>HADEVELOPT</th>\n",
              "      <th>HOUSING_PSA</th>\n",
              "      <th>JURISDICTION_CODE</th>\n",
              "      <th>JURIS_DESC</th>\n",
              "      <th>KY_CD</th>\n",
              "      <th>LAW_CAT_CD</th>\n",
              "      <th>LOC_OF_OCCUR_DESC</th>\n",
              "      <th>OFNS_DESC</th>\n",
              "      <th>PARKS_NM</th>\n",
              "      <th>PATROL_BORO</th>\n",
              "      <th>PD_CD</th>\n",
              "      <th>PD_DESC</th>\n",
              "      <th>PREM_TYP_DESC</th>\n",
              "      <th>RPT_DT</th>\n",
              "      <th>STATION_NAME</th>\n",
              "      <th>SUSP_AGE_GROUP</th>\n",
              "      <th>SUSP_RACE</th>\n",
              "      <th>SUSP_SEX</th>\n",
              "      <th>TRANSIT_DISTRICT</th>\n",
              "      <th>VIC_AGE_GROUP</th>\n",
              "      <th>VIC_RACE</th>\n",
              "      <th>VIC_SEX</th>\n",
              "      <th>X_COORD_CD</th>\n",
              "      <th>Y_COORD_CD</th>\n",
              "      <th>Latitude</th>\n",
              "      <th>Longitude</th>\n",
              "      <th>Lat_Lon</th>\n",
              "      <th>New Georeferenced Column</th>\n",
              "    </tr>\n",
              "  </thead>\n",
              "  <tbody>\n",
              "    <tr>\n",
              "      <th>0</th>\n",
              "      <td>854455675</td>\n",
              "      <td>48</td>\n",
              "      <td>NaN</td>\n",
              "      <td>09/29/2021</td>\n",
              "      <td>12:50:00</td>\n",
              "      <td>NaN</td>\n",
              "      <td>NaN</td>\n",
              "      <td>COMPLETED</td>\n",
              "      <td>NaN</td>\n",
              "      <td>NaN</td>\n",
              "      <td>NaN</td>\n",
              "      <td>N.Y. POLICE DEPT</td>\n",
              "      <td>101</td>\n",
              "      <td>FELONY</td>\n",
              "      <td>OUTSIDE</td>\n",
              "      <td>MURDER &amp; NON-NEGL. MANSLAUGHTER</td>\n",
              "      <td>NaN</td>\n",
              "      <td>NaN</td>\n",
              "      <td>NaN</td>\n",
              "      <td>NaN</td>\n",
              "      <td>NaN</td>\n",
              "      <td>09/29/2021</td>\n",
              "      <td>NaN</td>\n",
              "      <td>NaN</td>\n",
              "      <td>NaN</td>\n",
              "      <td>NaN</td>\n",
              "      <td>NaN</td>\n",
              "      <td>&lt;18</td>\n",
              "      <td>BLACK HISPANIC</td>\n",
              "      <td>M</td>\n",
              "      <td>1016838</td>\n",
              "      <td>250252</td>\n",
              "      <td>40.853507</td>\n",
              "      <td>-73.882203</td>\n",
              "      <td>(40.85350696200004, -73.88220309599996)</td>\n",
              "      <td>POINT (-73.88220309599996 40.85350696200004)</td>\n",
              "    </tr>\n",
              "    <tr>\n",
              "      <th>1</th>\n",
              "      <td>474078722</td>\n",
              "      <td>79</td>\n",
              "      <td>NaN</td>\n",
              "      <td>09/16/2021</td>\n",
              "      <td>05:15:00</td>\n",
              "      <td>NaN</td>\n",
              "      <td>NaN</td>\n",
              "      <td>COMPLETED</td>\n",
              "      <td>NaN</td>\n",
              "      <td>NaN</td>\n",
              "      <td>NaN</td>\n",
              "      <td>N.Y. POLICE DEPT</td>\n",
              "      <td>101</td>\n",
              "      <td>FELONY</td>\n",
              "      <td>OUTSIDE</td>\n",
              "      <td>MURDER &amp; NON-NEGL. MANSLAUGHTER</td>\n",
              "      <td>NaN</td>\n",
              "      <td>NaN</td>\n",
              "      <td>NaN</td>\n",
              "      <td>NaN</td>\n",
              "      <td>NaN</td>\n",
              "      <td>09/16/2021</td>\n",
              "      <td>NaN</td>\n",
              "      <td>25-44</td>\n",
              "      <td>BLACK</td>\n",
              "      <td>M</td>\n",
              "      <td>NaN</td>\n",
              "      <td>25-44</td>\n",
              "      <td>BLACK</td>\n",
              "      <td>M</td>\n",
              "      <td>1001523</td>\n",
              "      <td>192971</td>\n",
              "      <td>40.696329</td>\n",
              "      <td>-73.937711</td>\n",
              "      <td>(40.696328949000076, -73.93771061299998)</td>\n",
              "      <td>POINT (-73.93771061299998 40.696328949000076)</td>\n",
              "    </tr>\n",
              "    <tr>\n",
              "      <th>2</th>\n",
              "      <td>843162354</td>\n",
              "      <td>25</td>\n",
              "      <td>NaN</td>\n",
              "      <td>09/15/2021</td>\n",
              "      <td>01:13:00</td>\n",
              "      <td>NaN</td>\n",
              "      <td>NaN</td>\n",
              "      <td>COMPLETED</td>\n",
              "      <td>NaN</td>\n",
              "      <td>NaN</td>\n",
              "      <td>NaN</td>\n",
              "      <td>N.Y. POLICE DEPT</td>\n",
              "      <td>101</td>\n",
              "      <td>FELONY</td>\n",
              "      <td>OUTSIDE</td>\n",
              "      <td>MURDER &amp; NON-NEGL. MANSLAUGHTER</td>\n",
              "      <td>NaN</td>\n",
              "      <td>NaN</td>\n",
              "      <td>NaN</td>\n",
              "      <td>NaN</td>\n",
              "      <td>NaN</td>\n",
              "      <td>09/15/2021</td>\n",
              "      <td>NaN</td>\n",
              "      <td>NaN</td>\n",
              "      <td>NaN</td>\n",
              "      <td>NaN</td>\n",
              "      <td>NaN</td>\n",
              "      <td>25-44</td>\n",
              "      <td>BLACK</td>\n",
              "      <td>M</td>\n",
              "      <td>1001508</td>\n",
              "      <td>232696</td>\n",
              "      <td>40.805364</td>\n",
              "      <td>-73.937663</td>\n",
              "      <td>(40.80536404400005, -73.93766276299993)</td>\n",
              "      <td>POINT (-73.93766276299993 40.80536404400005)</td>\n",
              "    </tr>\n",
              "    <tr>\n",
              "      <th>3</th>\n",
              "      <td>275119984</td>\n",
              "      <td>47</td>\n",
              "      <td>NaN</td>\n",
              "      <td>09/07/2021</td>\n",
              "      <td>19:35:00</td>\n",
              "      <td>NaN</td>\n",
              "      <td>NaN</td>\n",
              "      <td>COMPLETED</td>\n",
              "      <td>NaN</td>\n",
              "      <td>NaN</td>\n",
              "      <td>NaN</td>\n",
              "      <td>N.Y. POLICE DEPT</td>\n",
              "      <td>101</td>\n",
              "      <td>FELONY</td>\n",
              "      <td>INSIDE</td>\n",
              "      <td>MURDER &amp; NON-NEGL. MANSLAUGHTER</td>\n",
              "      <td>NaN</td>\n",
              "      <td>NaN</td>\n",
              "      <td>NaN</td>\n",
              "      <td>NaN</td>\n",
              "      <td>NaN</td>\n",
              "      <td>09/07/2021</td>\n",
              "      <td>NaN</td>\n",
              "      <td>25-44</td>\n",
              "      <td>BLACK</td>\n",
              "      <td>M</td>\n",
              "      <td>NaN</td>\n",
              "      <td>25-44</td>\n",
              "      <td>BLACK</td>\n",
              "      <td>M</td>\n",
              "      <td>1023942</td>\n",
              "      <td>264415</td>\n",
              "      <td>40.892351</td>\n",
              "      <td>-73.856440</td>\n",
              "      <td>(40.89235092600006, -73.85643985999997)</td>\n",
              "      <td>POINT (-73.85643985999997 40.89235092600006)</td>\n",
              "    </tr>\n",
              "    <tr>\n",
              "      <th>4</th>\n",
              "      <td>446379952</td>\n",
              "      <td>47</td>\n",
              "      <td>NaN</td>\n",
              "      <td>09/03/2021</td>\n",
              "      <td>20:35:00</td>\n",
              "      <td>NaN</td>\n",
              "      <td>NaN</td>\n",
              "      <td>COMPLETED</td>\n",
              "      <td>NaN</td>\n",
              "      <td>NaN</td>\n",
              "      <td>NaN</td>\n",
              "      <td>N.Y. POLICE DEPT</td>\n",
              "      <td>101</td>\n",
              "      <td>FELONY</td>\n",
              "      <td>OUTSIDE</td>\n",
              "      <td>MURDER &amp; NON-NEGL. MANSLAUGHTER</td>\n",
              "      <td>NaN</td>\n",
              "      <td>NaN</td>\n",
              "      <td>NaN</td>\n",
              "      <td>NaN</td>\n",
              "      <td>NaN</td>\n",
              "      <td>09/03/2021</td>\n",
              "      <td>NaN</td>\n",
              "      <td>NaN</td>\n",
              "      <td>NaN</td>\n",
              "      <td>NaN</td>\n",
              "      <td>NaN</td>\n",
              "      <td>25-44</td>\n",
              "      <td>BLACK</td>\n",
              "      <td>M</td>\n",
              "      <td>1027062</td>\n",
              "      <td>262581</td>\n",
              "      <td>40.887303</td>\n",
              "      <td>-73.845167</td>\n",
              "      <td>(40.88730259600004, -73.84516691)</td>\n",
              "      <td>POINT (-73.84516691 40.88730259600004)</td>\n",
              "    </tr>\n",
              "  </tbody>\n",
              "</table>\n",
              "</div>"
            ],
            "text/plain": [
              "   CMPLNT_NUM  ...                       New Georeferenced Column\n",
              "0   854455675  ...   POINT (-73.88220309599996 40.85350696200004)\n",
              "1   474078722  ...  POINT (-73.93771061299998 40.696328949000076)\n",
              "2   843162354  ...   POINT (-73.93766276299993 40.80536404400005)\n",
              "3   275119984  ...   POINT (-73.85643985999997 40.89235092600006)\n",
              "4   446379952  ...         POINT (-73.84516691 40.88730259600004)\n",
              "\n",
              "[5 rows x 36 columns]"
            ]
          },
          "metadata": {},
          "execution_count": 571
        }
      ]
    },
    {
      "cell_type": "markdown",
      "metadata": {
        "id": "hu5VGbNFLFiK"
      },
      "source": [
        "Before I begin I want to clean out my data, so it's less cluttered"
      ]
    },
    {
      "cell_type": "markdown",
      "metadata": {
        "id": "oNoVUJcKEPY_"
      },
      "source": [
        "# **Data cleaning and Analysis**"
      ]
    },
    {
      "cell_type": "code",
      "metadata": {
        "id": "aHwYc8JwiyQW"
      },
      "source": [
        "# drop rows where important columns are NaN for the following subsets\n",
        "df.dropna(subset=['BORO_NM','X_COORD_CD','Y_COORD_CD','Latitude','Longitude','Lat_Lon','OFNS_DESC','CRM_ATPT_CPTD_CD','CMPLNT_FR_TM','CMPLNT_FR_DT'], inplace=True)"
      ],
      "execution_count": 572,
      "outputs": []
    },
    {
      "cell_type": "code",
      "metadata": {
        "id": "pCXbbwsFpu3s"
      },
      "source": [
        " # get rid of useless columns\n",
        "df.drop(['PARKS_NM', 'STATION_NAME', 'CRM_ATPT_CPTD_CD', 'TRANSIT_DISTRICT', 'PREM_TYP_DESC', 'SUSP_AGE_GROUP', 'SUSP_SEX', 'SUSP_RACE', 'JURISDICTION_CODE', 'HOUSING_PSA', 'HADEVELOPT', 'ADDR_PCT_CD', 'PD_CD', 'PD_DESC', 'PATROL_BORO', 'CMPLNT_TO_DT', 'CMPLNT_TO_TM'], axis='columns', inplace=True)"
      ],
      "execution_count": 573,
      "outputs": []
    },
    {
      "cell_type": "code",
      "metadata": {
        "colab": {
          "base_uri": "https://localhost:8080/",
          "height": 808
        },
        "id": "CoFQzpEL04cz",
        "outputId": "2ac839f5-f8da-44df-ea2d-9282d596ed14"
      },
      "source": [
        "# remove rows with empty values on the following columns\n",
        "data = {'VIC_RACE':'UNKNOWN', 'VIC_AGE_GROUP':'UNKNOWN', 'VIC_SEX':'UNKNOWN', 'LOC_OF_OCCUR_DESC':'UNKNOWN'}\n",
        "df.fillna(value=data)"
      ],
      "execution_count": 574,
      "outputs": [
        {
          "output_type": "execute_result",
          "data": {
            "text/html": [
              "<div>\n",
              "<style scoped>\n",
              "    .dataframe tbody tr th:only-of-type {\n",
              "        vertical-align: middle;\n",
              "    }\n",
              "\n",
              "    .dataframe tbody tr th {\n",
              "        vertical-align: top;\n",
              "    }\n",
              "\n",
              "    .dataframe thead th {\n",
              "        text-align: right;\n",
              "    }\n",
              "</style>\n",
              "<table border=\"1\" class=\"dataframe\">\n",
              "  <thead>\n",
              "    <tr style=\"text-align: right;\">\n",
              "      <th></th>\n",
              "      <th>CMPLNT_NUM</th>\n",
              "      <th>BORO_NM</th>\n",
              "      <th>CMPLNT_FR_DT</th>\n",
              "      <th>CMPLNT_FR_TM</th>\n",
              "      <th>JURIS_DESC</th>\n",
              "      <th>KY_CD</th>\n",
              "      <th>LAW_CAT_CD</th>\n",
              "      <th>LOC_OF_OCCUR_DESC</th>\n",
              "      <th>OFNS_DESC</th>\n",
              "      <th>RPT_DT</th>\n",
              "      <th>VIC_AGE_GROUP</th>\n",
              "      <th>VIC_RACE</th>\n",
              "      <th>VIC_SEX</th>\n",
              "      <th>X_COORD_CD</th>\n",
              "      <th>Y_COORD_CD</th>\n",
              "      <th>Latitude</th>\n",
              "      <th>Longitude</th>\n",
              "      <th>Lat_Lon</th>\n",
              "      <th>New Georeferenced Column</th>\n",
              "    </tr>\n",
              "  </thead>\n",
              "  <tbody>\n",
              "    <tr>\n",
              "      <th>13</th>\n",
              "      <td>276278658</td>\n",
              "      <td>MANHATTAN</td>\n",
              "      <td>07/31/2021</td>\n",
              "      <td>19:34:00</td>\n",
              "      <td>N.Y. POLICE DEPT</td>\n",
              "      <td>118</td>\n",
              "      <td>FELONY</td>\n",
              "      <td>UNKNOWN</td>\n",
              "      <td>DANGEROUS WEAPONS</td>\n",
              "      <td>07/31/2021</td>\n",
              "      <td>UNKNOWN</td>\n",
              "      <td>UNKNOWN</td>\n",
              "      <td>E</td>\n",
              "      <td>999288</td>\n",
              "      <td>225706</td>\n",
              "      <td>40.786182</td>\n",
              "      <td>-73.945697</td>\n",
              "      <td>(40.786182447000044, -73.94569741099998)</td>\n",
              "      <td>POINT (-73.94569741099998 40.786182447000044)</td>\n",
              "    </tr>\n",
              "    <tr>\n",
              "      <th>16</th>\n",
              "      <td>941960858</td>\n",
              "      <td>BRONX</td>\n",
              "      <td>07/13/2021</td>\n",
              "      <td>17:00:00</td>\n",
              "      <td>N.Y. POLICE DEPT</td>\n",
              "      <td>341</td>\n",
              "      <td>MISDEMEANOR</td>\n",
              "      <td>UNKNOWN</td>\n",
              "      <td>PETIT LARCENY</td>\n",
              "      <td>07/13/2021</td>\n",
              "      <td>25-44</td>\n",
              "      <td>BLACK</td>\n",
              "      <td>M</td>\n",
              "      <td>1010183</td>\n",
              "      <td>241018</td>\n",
              "      <td>40.828184</td>\n",
              "      <td>-73.906295</td>\n",
              "      <td>(40.82818438900005, -73.90629512299995)</td>\n",
              "      <td>POINT (-73.90629512299995 40.82818438900005)</td>\n",
              "    </tr>\n",
              "    <tr>\n",
              "      <th>18</th>\n",
              "      <td>180721837</td>\n",
              "      <td>BRONX</td>\n",
              "      <td>07/06/2021</td>\n",
              "      <td>16:15:00</td>\n",
              "      <td>N.Y. POLICE DEPT</td>\n",
              "      <td>105</td>\n",
              "      <td>FELONY</td>\n",
              "      <td>UNKNOWN</td>\n",
              "      <td>ROBBERY</td>\n",
              "      <td>07/06/2021</td>\n",
              "      <td>25-44</td>\n",
              "      <td>BLACK</td>\n",
              "      <td>M</td>\n",
              "      <td>1021180</td>\n",
              "      <td>242772</td>\n",
              "      <td>40.832959</td>\n",
              "      <td>-73.866549</td>\n",
              "      <td>(40.83295947800008, -73.86654894899993)</td>\n",
              "      <td>POINT (-73.86654894899993 40.83295947800008)</td>\n",
              "    </tr>\n",
              "    <tr>\n",
              "      <th>34</th>\n",
              "      <td>997041360</td>\n",
              "      <td>BRONX</td>\n",
              "      <td>03/20/2021</td>\n",
              "      <td>20:57:00</td>\n",
              "      <td>N.Y. POLICE DEPT</td>\n",
              "      <td>578</td>\n",
              "      <td>VIOLATION</td>\n",
              "      <td>UNKNOWN</td>\n",
              "      <td>HARRASSMENT 2</td>\n",
              "      <td>03/20/2021</td>\n",
              "      <td>25-44</td>\n",
              "      <td>BLACK</td>\n",
              "      <td>F</td>\n",
              "      <td>1008404</td>\n",
              "      <td>244727</td>\n",
              "      <td>40.838370</td>\n",
              "      <td>-73.912710</td>\n",
              "      <td>(40.83836956700002, -73.91271000499995)</td>\n",
              "      <td>POINT (-73.91271000499995 40.83836956700002)</td>\n",
              "    </tr>\n",
              "    <tr>\n",
              "      <th>45</th>\n",
              "      <td>570522952</td>\n",
              "      <td>MANHATTAN</td>\n",
              "      <td>01/14/2021</td>\n",
              "      <td>12:00:00</td>\n",
              "      <td>N.Y. POLICE DEPT</td>\n",
              "      <td>341</td>\n",
              "      <td>MISDEMEANOR</td>\n",
              "      <td>UNKNOWN</td>\n",
              "      <td>PETIT LARCENY</td>\n",
              "      <td>01/14/2021</td>\n",
              "      <td>UNKNOWN</td>\n",
              "      <td>UNKNOWN</td>\n",
              "      <td>D</td>\n",
              "      <td>999321</td>\n",
              "      <td>229329</td>\n",
              "      <td>40.796127</td>\n",
              "      <td>-73.945570</td>\n",
              "      <td>(40.796126551000036, -73.94557011499995)</td>\n",
              "      <td>POINT (-73.94557011499995 40.796126551000036)</td>\n",
              "    </tr>\n",
              "    <tr>\n",
              "      <th>...</th>\n",
              "      <td>...</td>\n",
              "      <td>...</td>\n",
              "      <td>...</td>\n",
              "      <td>...</td>\n",
              "      <td>...</td>\n",
              "      <td>...</td>\n",
              "      <td>...</td>\n",
              "      <td>...</td>\n",
              "      <td>...</td>\n",
              "      <td>...</td>\n",
              "      <td>...</td>\n",
              "      <td>...</td>\n",
              "      <td>...</td>\n",
              "      <td>...</td>\n",
              "      <td>...</td>\n",
              "      <td>...</td>\n",
              "      <td>...</td>\n",
              "      <td>...</td>\n",
              "      <td>...</td>\n",
              "    </tr>\n",
              "    <tr>\n",
              "      <th>321335</th>\n",
              "      <td>578212112</td>\n",
              "      <td>QUEENS</td>\n",
              "      <td>01/03/2021</td>\n",
              "      <td>18:21:00</td>\n",
              "      <td>N.Y. POLICE DEPT</td>\n",
              "      <td>121</td>\n",
              "      <td>FELONY</td>\n",
              "      <td>INSIDE</td>\n",
              "      <td>CRIMINAL MISCHIEF &amp; RELATED OF</td>\n",
              "      <td>01/03/2021</td>\n",
              "      <td>25-44</td>\n",
              "      <td>BLACK HISPANIC</td>\n",
              "      <td>F</td>\n",
              "      <td>1053416</td>\n",
              "      <td>200886</td>\n",
              "      <td>40.717800</td>\n",
              "      <td>-73.750491</td>\n",
              "      <td>(40.71780024700007, -73.75049058099995)</td>\n",
              "      <td>POINT (-73.75049058099995 40.71780024700007)</td>\n",
              "    </tr>\n",
              "    <tr>\n",
              "      <th>321336</th>\n",
              "      <td>237025556</td>\n",
              "      <td>QUEENS</td>\n",
              "      <td>01/05/2021</td>\n",
              "      <td>09:30:00</td>\n",
              "      <td>N.Y. POLICE DEPT</td>\n",
              "      <td>341</td>\n",
              "      <td>MISDEMEANOR</td>\n",
              "      <td>FRONT OF</td>\n",
              "      <td>PETIT LARCENY</td>\n",
              "      <td>01/07/2021</td>\n",
              "      <td>45-64</td>\n",
              "      <td>WHITE</td>\n",
              "      <td>M</td>\n",
              "      <td>1008451</td>\n",
              "      <td>196094</td>\n",
              "      <td>40.704885</td>\n",
              "      <td>-73.912715</td>\n",
              "      <td>(40.704884618000044, -73.91271527399994)</td>\n",
              "      <td>POINT (-73.91271527399994 40.704884618000044)</td>\n",
              "    </tr>\n",
              "    <tr>\n",
              "      <th>321337</th>\n",
              "      <td>675024556</td>\n",
              "      <td>BROOKLYN</td>\n",
              "      <td>12/25/2020</td>\n",
              "      <td>13:06:00</td>\n",
              "      <td>N.Y. POLICE DEPT</td>\n",
              "      <td>113</td>\n",
              "      <td>FELONY</td>\n",
              "      <td>INSIDE</td>\n",
              "      <td>FORGERY</td>\n",
              "      <td>01/01/2021</td>\n",
              "      <td>65+</td>\n",
              "      <td>WHITE</td>\n",
              "      <td>M</td>\n",
              "      <td>985689</td>\n",
              "      <td>169898</td>\n",
              "      <td>40.633015</td>\n",
              "      <td>-73.994817</td>\n",
              "      <td>(40.63301541000004, -73.99481696499998)</td>\n",
              "      <td>POINT (-73.99481696499998 40.63301541000004)</td>\n",
              "    </tr>\n",
              "    <tr>\n",
              "      <th>321338</th>\n",
              "      <td>422883650</td>\n",
              "      <td>BRONX</td>\n",
              "      <td>01/05/2021</td>\n",
              "      <td>12:13:00</td>\n",
              "      <td>N.Y. POLICE DEPT</td>\n",
              "      <td>359</td>\n",
              "      <td>MISDEMEANOR</td>\n",
              "      <td>INSIDE</td>\n",
              "      <td>OFFENSES AGAINST PUBLIC ADMINI</td>\n",
              "      <td>01/05/2021</td>\n",
              "      <td>25-44</td>\n",
              "      <td>BLACK</td>\n",
              "      <td>F</td>\n",
              "      <td>1020530</td>\n",
              "      <td>241813</td>\n",
              "      <td>40.830330</td>\n",
              "      <td>-73.868903</td>\n",
              "      <td>(40.83032999500005, -73.86890301099999)</td>\n",
              "      <td>POINT (-73.86890301099999 40.83032999500005)</td>\n",
              "    </tr>\n",
              "    <tr>\n",
              "      <th>321339</th>\n",
              "      <td>271039158</td>\n",
              "      <td>QUEENS</td>\n",
              "      <td>01/02/2021</td>\n",
              "      <td>02:20:00</td>\n",
              "      <td>N.Y. POLICE DEPT</td>\n",
              "      <td>351</td>\n",
              "      <td>MISDEMEANOR</td>\n",
              "      <td>FRONT OF</td>\n",
              "      <td>CRIMINAL MISCHIEF &amp; RELATED OF</td>\n",
              "      <td>01/02/2021</td>\n",
              "      <td>25-44</td>\n",
              "      <td>BLACK</td>\n",
              "      <td>F</td>\n",
              "      <td>1042590</td>\n",
              "      <td>186957</td>\n",
              "      <td>40.679647</td>\n",
              "      <td>-73.789665</td>\n",
              "      <td>(40.67964650900007, -73.78966500499997)</td>\n",
              "      <td>POINT (-73.78966500499997 40.67964650900007)</td>\n",
              "    </tr>\n",
              "  </tbody>\n",
              "</table>\n",
              "<p>320470 rows × 19 columns</p>\n",
              "</div>"
            ],
            "text/plain": [
              "        CMPLNT_NUM  ...                       New Georeferenced Column\n",
              "13       276278658  ...  POINT (-73.94569741099998 40.786182447000044)\n",
              "16       941960858  ...   POINT (-73.90629512299995 40.82818438900005)\n",
              "18       180721837  ...   POINT (-73.86654894899993 40.83295947800008)\n",
              "34       997041360  ...   POINT (-73.91271000499995 40.83836956700002)\n",
              "45       570522952  ...  POINT (-73.94557011499995 40.796126551000036)\n",
              "...            ...  ...                                            ...\n",
              "321335   578212112  ...   POINT (-73.75049058099995 40.71780024700007)\n",
              "321336   237025556  ...  POINT (-73.91271527399994 40.704884618000044)\n",
              "321337   675024556  ...   POINT (-73.99481696499998 40.63301541000004)\n",
              "321338   422883650  ...   POINT (-73.86890301099999 40.83032999500005)\n",
              "321339   271039158  ...   POINT (-73.78966500499997 40.67964650900007)\n",
              "\n",
              "[320470 rows x 19 columns]"
            ]
          },
          "metadata": {},
          "execution_count": 574
        }
      ]
    },
    {
      "cell_type": "markdown",
      "metadata": {
        "id": "z-INMNv791km"
      },
      "source": [
        "Shown below are all posible crimes that are logged and is in ordered from most common to least.\n",
        "As you can see it has not yet been cleaned, but will be to make it cleaner."
      ]
    },
    {
      "cell_type": "code",
      "metadata": {
        "colab": {
          "base_uri": "https://localhost:8080/"
        },
        "id": "R29agcoG9q0f",
        "outputId": "d5c553d7-2973-4aea-8f61-100009b2ed32"
      },
      "source": [
        "df['OFNS_DESC'].value_counts()"
      ],
      "execution_count": 575,
      "outputs": [
        {
          "output_type": "execute_result",
          "data": {
            "text/plain": [
              "PETIT LARCENY                           60474\n",
              "HARRASSMENT 2                           54259\n",
              "ASSAULT 3 & RELATED OFFENSES            35181\n",
              "CRIMINAL MISCHIEF & RELATED OF          33471\n",
              "GRAND LARCENY                           26314\n",
              "FELONY ASSAULT                          16700\n",
              "OFF. AGNST PUB ORD SENSBLTY &           12882\n",
              "MISCELLANEOUS PENAL LAW                 10720\n",
              "ROBBERY                                  9517\n",
              "BURGLARY                                 8828\n",
              "GRAND LARCENY OF MOTOR VEHICLE           7364\n",
              "VEHICLE AND TRAFFIC LAWS                 6056\n",
              "DANGEROUS DRUGS                          5992\n",
              "SEX CRIMES                               4395\n",
              "OFFENSES AGAINST PUBLIC ADMINI           4228\n",
              "DANGEROUS WEAPONS                        4054\n",
              "FORGERY                                  3355\n",
              "THEFT-FRAUD                              2774\n",
              "FRAUDS                                   2082\n",
              "OFFENSES INVOLVING FRAUD                 2032\n",
              "INTOXICATED & IMPAIRED DRIVING           1901\n",
              "CRIMINAL TRESPASS                        1429\n",
              "UNAUTHORIZED USE OF A VEHICLE             928\n",
              "POSSESSION OF STOLEN PROPERTY             902\n",
              "RAPE                                      895\n",
              "OFFENSES AGAINST THE PERSON               801\n",
              "ADMINISTRATIVE CODE                       562\n",
              "ARSON                                     471\n",
              "OTHER OFFENSES RELATED TO THEF            462\n",
              "NYS LAWS-UNCLASSIFIED FELONY              284\n",
              "OTHER STATE LAWS (NON PENAL LA            232\n",
              "BURGLAR'S TOOLS                           159\n",
              "PETIT LARCENY OF MOTOR VEHICLE            105\n",
              "GAMBLING                                  102\n",
              "KIDNAPPING & RELATED OFFENSES              99\n",
              "THEFT OF SERVICES                          99\n",
              "AGRICULTURE & MRKTS LAW-UNCLASSIFIED       77\n",
              "OFFENSES AGAINST PUBLIC SAFETY             56\n",
              "ALCOHOLIC BEVERAGE CONTROL LAW             52\n",
              "PROSTITUTION & RELATED OFFENSES            37\n",
              "FRAUDULENT ACCOSTING                       31\n",
              "ANTICIPATORY OFFENSES                      13\n",
              "ENDAN WELFARE INCOMP                       13\n",
              "FELONY SEX CRIMES                          13\n",
              "DISORDERLY CONDUCT                         11\n",
              "CHILD ABANDONMENT/NON SUPPORT               8\n",
              "NYS LAWS-UNCLASSIFIED VIOLATION             8\n",
              "HOMICIDE-NEGLIGENT,UNCLASSIFIE              7\n",
              "KIDNAPPING                                  6\n",
              "OTHER STATE LAWS                            5\n",
              "JOSTLING                                    4\n",
              "ESCAPE 3                                    4\n",
              "OFFENSES RELATED TO CHILDREN                4\n",
              "NEW YORK CITY HEALTH CODE                   3\n",
              "INTOXICATED/IMPAIRED DRIVING                3\n",
              "HOMICIDE-NEGLIGENT-VEHICLE                  2\n",
              "LOITERING/GAMBLING (CARDS, DIC              1\n",
              "DISRUPTION OF A RELIGIOUS SERV              1\n",
              "OFFENSES AGAINST MARRIAGE UNCL              1\n",
              "OTHER STATE LAWS (NON PENAL LAW)            1\n",
              "Name: OFNS_DESC, dtype: int64"
            ]
          },
          "metadata": {},
          "execution_count": 575
        }
      ]
    },
    {
      "cell_type": "markdown",
      "metadata": {
        "id": "cYlNqzX68duc"
      },
      "source": [
        "Find unique crimes"
      ]
    },
    {
      "cell_type": "code",
      "metadata": {
        "colab": {
          "base_uri": "https://localhost:8080/"
        },
        "id": "4RKaYP-18c7O",
        "outputId": "34ff4bd3-a450-4c13-cf88-9815afdd384a"
      },
      "source": [
        "df['OFNS_DESC'].unique()"
      ],
      "execution_count": 576,
      "outputs": [
        {
          "output_type": "execute_result",
          "data": {
            "text/plain": [
              "array(['DANGEROUS WEAPONS', 'PETIT LARCENY', 'ROBBERY', 'HARRASSMENT 2',\n",
              "       'OFFENSES AGAINST PUBLIC ADMINI', 'ASSAULT 3 & RELATED OFFENSES',\n",
              "       'FELONY ASSAULT', 'SEX CRIMES', 'GRAND LARCENY',\n",
              "       'CRIMINAL MISCHIEF & RELATED OF', 'OFFENSES INVOLVING FRAUD',\n",
              "       'BURGLARY', 'OFFENSES AGAINST THE PERSON',\n",
              "       'GRAND LARCENY OF MOTOR VEHICLE', 'INTOXICATED & IMPAIRED DRIVING',\n",
              "       'MISCELLANEOUS PENAL LAW', 'OTHER OFFENSES RELATED TO THEF',\n",
              "       'RAPE', 'THEFT-FRAUD', 'OFF. AGNST PUB ORD SENSBLTY &',\n",
              "       'DANGEROUS DRUGS', 'VEHICLE AND TRAFFIC LAWS', 'FORGERY',\n",
              "       'UNAUTHORIZED USE OF A VEHICLE', 'CRIMINAL TRESPASS',\n",
              "       'PETIT LARCENY OF MOTOR VEHICLE', 'POSSESSION OF STOLEN PROPERTY',\n",
              "       'FRAUDS', 'OTHER STATE LAWS (NON PENAL LA', 'ARSON',\n",
              "       \"BURGLAR'S TOOLS\", 'KIDNAPPING & RELATED OFFENSES',\n",
              "       'NYS LAWS-UNCLASSIFIED FELONY', 'HOMICIDE-NEGLIGENT,UNCLASSIFIE',\n",
              "       'THEFT OF SERVICES', 'ADMINISTRATIVE CODE',\n",
              "       'AGRICULTURE & MRKTS LAW-UNCLASSIFIED', 'GAMBLING',\n",
              "       'FRAUDULENT ACCOSTING', 'NYS LAWS-UNCLASSIFIED VIOLATION',\n",
              "       'OFFENSES AGAINST PUBLIC SAFETY', 'CHILD ABANDONMENT/NON SUPPORT',\n",
              "       'ENDAN WELFARE INCOMP', 'FELONY SEX CRIMES',\n",
              "       'PROSTITUTION & RELATED OFFENSES',\n",
              "       'ALCOHOLIC BEVERAGE CONTROL LAW', 'DISORDERLY CONDUCT',\n",
              "       'ANTICIPATORY OFFENSES', 'JOSTLING', 'HOMICIDE-NEGLIGENT-VEHICLE',\n",
              "       'LOITERING/GAMBLING (CARDS, DIC', 'ESCAPE 3', 'KIDNAPPING',\n",
              "       'OFFENSES RELATED TO CHILDREN', 'OTHER STATE LAWS',\n",
              "       'DISRUPTION OF A RELIGIOUS SERV',\n",
              "       'OTHER STATE LAWS (NON PENAL LAW)', 'INTOXICATED/IMPAIRED DRIVING',\n",
              "       'NEW YORK CITY HEALTH CODE', 'OFFENSES AGAINST MARRIAGE UNCL'],\n",
              "      dtype=object)"
            ]
          },
          "metadata": {},
          "execution_count": 576
        }
      ]
    },
    {
      "cell_type": "code",
      "metadata": {
        "id": "98g0SX3y58jw",
        "colab": {
          "base_uri": "https://localhost:8080/",
          "height": 826
        },
        "outputId": "83195dd8-eebb-402a-813a-f1ef8421fef6"
      },
      "source": [
        "# Modifying crimes for cleaness\n",
        "crimes = {'ESCAPE 3': 'ESCAPE',\n",
        "          'ASSAULT 3 & RELATED OFFENSES': 'ASSAULT',\n",
        "          'CRIMINAL MISCHIEF & RELATED OF': 'CRIMINAL MISCHIEF',\n",
        "          'HARRASSMENT 2': 'HARASSMENT',\n",
        "          'LOITERING/GAMBLING (CARDS, DIC': 'GAMBLING',\n",
        "          'OFF. AGNST PUB ORD SENSBLTY &': 'OFFENSES AGAINST PUBLIC ORDER',\n",
        "          'OTHER STATE LAWS (NON PENAL LAW)': 'OTHER STATE LAWS',\n",
        "          'ENDAN WELFARE INCOMP': 'ENDANGERING WELFARE',\n",
        "          'HOMICIDE-NEGLIGENT,UNCLASSIFIE': 'HOMICIDE',\n",
        "          'AGRICULTURE & MRKTS LAW-UNCLASSIFIED': 'AGRICULTURE & MARKETS LAW',\n",
        "          'DISRUPTION OF A RELIGIOUS SERV': 'DISRUPTION OF RELIGIOUS SERVICE',\n",
        "          'OFFENSES AGAINST MARRIAGE UNCL': 'OFFENSES AGAINST MARRIAGE',\n",
        "          }\n",
        "df = df.replace(crimes)\n",
        "display(df)\n"
      ],
      "execution_count": 577,
      "outputs": [
        {
          "output_type": "display_data",
          "data": {
            "text/html": [
              "<div>\n",
              "<style scoped>\n",
              "    .dataframe tbody tr th:only-of-type {\n",
              "        vertical-align: middle;\n",
              "    }\n",
              "\n",
              "    .dataframe tbody tr th {\n",
              "        vertical-align: top;\n",
              "    }\n",
              "\n",
              "    .dataframe thead th {\n",
              "        text-align: right;\n",
              "    }\n",
              "</style>\n",
              "<table border=\"1\" class=\"dataframe\">\n",
              "  <thead>\n",
              "    <tr style=\"text-align: right;\">\n",
              "      <th></th>\n",
              "      <th>CMPLNT_NUM</th>\n",
              "      <th>BORO_NM</th>\n",
              "      <th>CMPLNT_FR_DT</th>\n",
              "      <th>CMPLNT_FR_TM</th>\n",
              "      <th>JURIS_DESC</th>\n",
              "      <th>KY_CD</th>\n",
              "      <th>LAW_CAT_CD</th>\n",
              "      <th>LOC_OF_OCCUR_DESC</th>\n",
              "      <th>OFNS_DESC</th>\n",
              "      <th>RPT_DT</th>\n",
              "      <th>VIC_AGE_GROUP</th>\n",
              "      <th>VIC_RACE</th>\n",
              "      <th>VIC_SEX</th>\n",
              "      <th>X_COORD_CD</th>\n",
              "      <th>Y_COORD_CD</th>\n",
              "      <th>Latitude</th>\n",
              "      <th>Longitude</th>\n",
              "      <th>Lat_Lon</th>\n",
              "      <th>New Georeferenced Column</th>\n",
              "    </tr>\n",
              "  </thead>\n",
              "  <tbody>\n",
              "    <tr>\n",
              "      <th>13</th>\n",
              "      <td>276278658</td>\n",
              "      <td>MANHATTAN</td>\n",
              "      <td>07/31/2021</td>\n",
              "      <td>19:34:00</td>\n",
              "      <td>N.Y. POLICE DEPT</td>\n",
              "      <td>118</td>\n",
              "      <td>FELONY</td>\n",
              "      <td>NaN</td>\n",
              "      <td>DANGEROUS WEAPONS</td>\n",
              "      <td>07/31/2021</td>\n",
              "      <td>UNKNOWN</td>\n",
              "      <td>UNKNOWN</td>\n",
              "      <td>E</td>\n",
              "      <td>999288</td>\n",
              "      <td>225706</td>\n",
              "      <td>40.786182</td>\n",
              "      <td>-73.945697</td>\n",
              "      <td>(40.786182447000044, -73.94569741099998)</td>\n",
              "      <td>POINT (-73.94569741099998 40.786182447000044)</td>\n",
              "    </tr>\n",
              "    <tr>\n",
              "      <th>16</th>\n",
              "      <td>941960858</td>\n",
              "      <td>BRONX</td>\n",
              "      <td>07/13/2021</td>\n",
              "      <td>17:00:00</td>\n",
              "      <td>N.Y. POLICE DEPT</td>\n",
              "      <td>341</td>\n",
              "      <td>MISDEMEANOR</td>\n",
              "      <td>NaN</td>\n",
              "      <td>PETIT LARCENY</td>\n",
              "      <td>07/13/2021</td>\n",
              "      <td>25-44</td>\n",
              "      <td>BLACK</td>\n",
              "      <td>M</td>\n",
              "      <td>1010183</td>\n",
              "      <td>241018</td>\n",
              "      <td>40.828184</td>\n",
              "      <td>-73.906295</td>\n",
              "      <td>(40.82818438900005, -73.90629512299995)</td>\n",
              "      <td>POINT (-73.90629512299995 40.82818438900005)</td>\n",
              "    </tr>\n",
              "    <tr>\n",
              "      <th>18</th>\n",
              "      <td>180721837</td>\n",
              "      <td>BRONX</td>\n",
              "      <td>07/06/2021</td>\n",
              "      <td>16:15:00</td>\n",
              "      <td>N.Y. POLICE DEPT</td>\n",
              "      <td>105</td>\n",
              "      <td>FELONY</td>\n",
              "      <td>NaN</td>\n",
              "      <td>ROBBERY</td>\n",
              "      <td>07/06/2021</td>\n",
              "      <td>25-44</td>\n",
              "      <td>BLACK</td>\n",
              "      <td>M</td>\n",
              "      <td>1021180</td>\n",
              "      <td>242772</td>\n",
              "      <td>40.832959</td>\n",
              "      <td>-73.866549</td>\n",
              "      <td>(40.83295947800008, -73.86654894899993)</td>\n",
              "      <td>POINT (-73.86654894899993 40.83295947800008)</td>\n",
              "    </tr>\n",
              "    <tr>\n",
              "      <th>34</th>\n",
              "      <td>997041360</td>\n",
              "      <td>BRONX</td>\n",
              "      <td>03/20/2021</td>\n",
              "      <td>20:57:00</td>\n",
              "      <td>N.Y. POLICE DEPT</td>\n",
              "      <td>578</td>\n",
              "      <td>VIOLATION</td>\n",
              "      <td>NaN</td>\n",
              "      <td>HARASSMENT</td>\n",
              "      <td>03/20/2021</td>\n",
              "      <td>25-44</td>\n",
              "      <td>BLACK</td>\n",
              "      <td>F</td>\n",
              "      <td>1008404</td>\n",
              "      <td>244727</td>\n",
              "      <td>40.838370</td>\n",
              "      <td>-73.912710</td>\n",
              "      <td>(40.83836956700002, -73.91271000499995)</td>\n",
              "      <td>POINT (-73.91271000499995 40.83836956700002)</td>\n",
              "    </tr>\n",
              "    <tr>\n",
              "      <th>45</th>\n",
              "      <td>570522952</td>\n",
              "      <td>MANHATTAN</td>\n",
              "      <td>01/14/2021</td>\n",
              "      <td>12:00:00</td>\n",
              "      <td>N.Y. POLICE DEPT</td>\n",
              "      <td>341</td>\n",
              "      <td>MISDEMEANOR</td>\n",
              "      <td>NaN</td>\n",
              "      <td>PETIT LARCENY</td>\n",
              "      <td>01/14/2021</td>\n",
              "      <td>UNKNOWN</td>\n",
              "      <td>UNKNOWN</td>\n",
              "      <td>D</td>\n",
              "      <td>999321</td>\n",
              "      <td>229329</td>\n",
              "      <td>40.796127</td>\n",
              "      <td>-73.945570</td>\n",
              "      <td>(40.796126551000036, -73.94557011499995)</td>\n",
              "      <td>POINT (-73.94557011499995 40.796126551000036)</td>\n",
              "    </tr>\n",
              "    <tr>\n",
              "      <th>...</th>\n",
              "      <td>...</td>\n",
              "      <td>...</td>\n",
              "      <td>...</td>\n",
              "      <td>...</td>\n",
              "      <td>...</td>\n",
              "      <td>...</td>\n",
              "      <td>...</td>\n",
              "      <td>...</td>\n",
              "      <td>...</td>\n",
              "      <td>...</td>\n",
              "      <td>...</td>\n",
              "      <td>...</td>\n",
              "      <td>...</td>\n",
              "      <td>...</td>\n",
              "      <td>...</td>\n",
              "      <td>...</td>\n",
              "      <td>...</td>\n",
              "      <td>...</td>\n",
              "      <td>...</td>\n",
              "    </tr>\n",
              "    <tr>\n",
              "      <th>321335</th>\n",
              "      <td>578212112</td>\n",
              "      <td>QUEENS</td>\n",
              "      <td>01/03/2021</td>\n",
              "      <td>18:21:00</td>\n",
              "      <td>N.Y. POLICE DEPT</td>\n",
              "      <td>121</td>\n",
              "      <td>FELONY</td>\n",
              "      <td>INSIDE</td>\n",
              "      <td>CRIMINAL MISCHIEF</td>\n",
              "      <td>01/03/2021</td>\n",
              "      <td>25-44</td>\n",
              "      <td>BLACK HISPANIC</td>\n",
              "      <td>F</td>\n",
              "      <td>1053416</td>\n",
              "      <td>200886</td>\n",
              "      <td>40.717800</td>\n",
              "      <td>-73.750491</td>\n",
              "      <td>(40.71780024700007, -73.75049058099995)</td>\n",
              "      <td>POINT (-73.75049058099995 40.71780024700007)</td>\n",
              "    </tr>\n",
              "    <tr>\n",
              "      <th>321336</th>\n",
              "      <td>237025556</td>\n",
              "      <td>QUEENS</td>\n",
              "      <td>01/05/2021</td>\n",
              "      <td>09:30:00</td>\n",
              "      <td>N.Y. POLICE DEPT</td>\n",
              "      <td>341</td>\n",
              "      <td>MISDEMEANOR</td>\n",
              "      <td>FRONT OF</td>\n",
              "      <td>PETIT LARCENY</td>\n",
              "      <td>01/07/2021</td>\n",
              "      <td>45-64</td>\n",
              "      <td>WHITE</td>\n",
              "      <td>M</td>\n",
              "      <td>1008451</td>\n",
              "      <td>196094</td>\n",
              "      <td>40.704885</td>\n",
              "      <td>-73.912715</td>\n",
              "      <td>(40.704884618000044, -73.91271527399994)</td>\n",
              "      <td>POINT (-73.91271527399994 40.704884618000044)</td>\n",
              "    </tr>\n",
              "    <tr>\n",
              "      <th>321337</th>\n",
              "      <td>675024556</td>\n",
              "      <td>BROOKLYN</td>\n",
              "      <td>12/25/2020</td>\n",
              "      <td>13:06:00</td>\n",
              "      <td>N.Y. POLICE DEPT</td>\n",
              "      <td>113</td>\n",
              "      <td>FELONY</td>\n",
              "      <td>INSIDE</td>\n",
              "      <td>FORGERY</td>\n",
              "      <td>01/01/2021</td>\n",
              "      <td>65+</td>\n",
              "      <td>WHITE</td>\n",
              "      <td>M</td>\n",
              "      <td>985689</td>\n",
              "      <td>169898</td>\n",
              "      <td>40.633015</td>\n",
              "      <td>-73.994817</td>\n",
              "      <td>(40.63301541000004, -73.99481696499998)</td>\n",
              "      <td>POINT (-73.99481696499998 40.63301541000004)</td>\n",
              "    </tr>\n",
              "    <tr>\n",
              "      <th>321338</th>\n",
              "      <td>422883650</td>\n",
              "      <td>BRONX</td>\n",
              "      <td>01/05/2021</td>\n",
              "      <td>12:13:00</td>\n",
              "      <td>N.Y. POLICE DEPT</td>\n",
              "      <td>359</td>\n",
              "      <td>MISDEMEANOR</td>\n",
              "      <td>INSIDE</td>\n",
              "      <td>OFFENSES AGAINST PUBLIC ADMINI</td>\n",
              "      <td>01/05/2021</td>\n",
              "      <td>25-44</td>\n",
              "      <td>BLACK</td>\n",
              "      <td>F</td>\n",
              "      <td>1020530</td>\n",
              "      <td>241813</td>\n",
              "      <td>40.830330</td>\n",
              "      <td>-73.868903</td>\n",
              "      <td>(40.83032999500005, -73.86890301099999)</td>\n",
              "      <td>POINT (-73.86890301099999 40.83032999500005)</td>\n",
              "    </tr>\n",
              "    <tr>\n",
              "      <th>321339</th>\n",
              "      <td>271039158</td>\n",
              "      <td>QUEENS</td>\n",
              "      <td>01/02/2021</td>\n",
              "      <td>02:20:00</td>\n",
              "      <td>N.Y. POLICE DEPT</td>\n",
              "      <td>351</td>\n",
              "      <td>MISDEMEANOR</td>\n",
              "      <td>FRONT OF</td>\n",
              "      <td>CRIMINAL MISCHIEF</td>\n",
              "      <td>01/02/2021</td>\n",
              "      <td>25-44</td>\n",
              "      <td>BLACK</td>\n",
              "      <td>F</td>\n",
              "      <td>1042590</td>\n",
              "      <td>186957</td>\n",
              "      <td>40.679647</td>\n",
              "      <td>-73.789665</td>\n",
              "      <td>(40.67964650900007, -73.78966500499997)</td>\n",
              "      <td>POINT (-73.78966500499997 40.67964650900007)</td>\n",
              "    </tr>\n",
              "  </tbody>\n",
              "</table>\n",
              "<p>320470 rows × 19 columns</p>\n",
              "</div>"
            ],
            "text/plain": [
              "        CMPLNT_NUM  ...                       New Georeferenced Column\n",
              "13       276278658  ...  POINT (-73.94569741099998 40.786182447000044)\n",
              "16       941960858  ...   POINT (-73.90629512299995 40.82818438900005)\n",
              "18       180721837  ...   POINT (-73.86654894899993 40.83295947800008)\n",
              "34       997041360  ...   POINT (-73.91271000499995 40.83836956700002)\n",
              "45       570522952  ...  POINT (-73.94557011499995 40.796126551000036)\n",
              "...            ...  ...                                            ...\n",
              "321335   578212112  ...   POINT (-73.75049058099995 40.71780024700007)\n",
              "321336   237025556  ...  POINT (-73.91271527399994 40.704884618000044)\n",
              "321337   675024556  ...   POINT (-73.99481696499998 40.63301541000004)\n",
              "321338   422883650  ...   POINT (-73.86890301099999 40.83032999500005)\n",
              "321339   271039158  ...   POINT (-73.78966500499997 40.67964650900007)\n",
              "\n",
              "[320470 rows x 19 columns]"
            ]
          },
          "metadata": {}
        }
      ]
    },
    {
      "cell_type": "markdown",
      "metadata": {
        "id": "OWL5g7CY9eyv"
      },
      "source": [
        "After the modification:"
      ]
    },
    {
      "cell_type": "code",
      "metadata": {
        "colab": {
          "base_uri": "https://localhost:8080/"
        },
        "id": "a8Q68X3TAKbV",
        "outputId": "f0264ca9-6969-4fef-a65e-14ca73803d89"
      },
      "source": [
        "# get all unique offenses available\n",
        "df['OFNS_DESC'].unique()"
      ],
      "execution_count": 578,
      "outputs": [
        {
          "output_type": "execute_result",
          "data": {
            "text/plain": [
              "array(['DANGEROUS WEAPONS', 'PETIT LARCENY', 'ROBBERY', 'HARASSMENT',\n",
              "       'OFFENSES AGAINST PUBLIC ADMINI', 'ASSAULT', 'FELONY ASSAULT',\n",
              "       'SEX CRIMES', 'GRAND LARCENY', 'CRIMINAL MISCHIEF',\n",
              "       'OFFENSES INVOLVING FRAUD', 'BURGLARY',\n",
              "       'OFFENSES AGAINST THE PERSON', 'GRAND LARCENY OF MOTOR VEHICLE',\n",
              "       'INTOXICATED & IMPAIRED DRIVING', 'MISCELLANEOUS PENAL LAW',\n",
              "       'OTHER OFFENSES RELATED TO THEF', 'RAPE', 'THEFT-FRAUD',\n",
              "       'OFFENSES AGAINST PUBLIC ORDER', 'DANGEROUS DRUGS',\n",
              "       'VEHICLE AND TRAFFIC LAWS', 'FORGERY',\n",
              "       'UNAUTHORIZED USE OF A VEHICLE', 'CRIMINAL TRESPASS',\n",
              "       'PETIT LARCENY OF MOTOR VEHICLE', 'POSSESSION OF STOLEN PROPERTY',\n",
              "       'FRAUDS', 'OTHER STATE LAWS (NON PENAL LA', 'ARSON',\n",
              "       \"BURGLAR'S TOOLS\", 'KIDNAPPING & RELATED OFFENSES',\n",
              "       'NYS LAWS-UNCLASSIFIED FELONY', 'HOMICIDE', 'THEFT OF SERVICES',\n",
              "       'ADMINISTRATIVE CODE', 'AGRICULTURE & MARKETS LAW', 'GAMBLING',\n",
              "       'FRAUDULENT ACCOSTING', 'NYS LAWS-UNCLASSIFIED VIOLATION',\n",
              "       'OFFENSES AGAINST PUBLIC SAFETY', 'CHILD ABANDONMENT/NON SUPPORT',\n",
              "       'ENDANGERING WELFARE', 'FELONY SEX CRIMES',\n",
              "       'PROSTITUTION & RELATED OFFENSES',\n",
              "       'ALCOHOLIC BEVERAGE CONTROL LAW', 'DISORDERLY CONDUCT',\n",
              "       'ANTICIPATORY OFFENSES', 'JOSTLING', 'HOMICIDE-NEGLIGENT-VEHICLE',\n",
              "       'ESCAPE', 'KIDNAPPING', 'OFFENSES RELATED TO CHILDREN',\n",
              "       'OTHER STATE LAWS', 'DISRUPTION OF RELIGIOUS SERVICE',\n",
              "       'INTOXICATED/IMPAIRED DRIVING', 'NEW YORK CITY HEALTH CODE',\n",
              "       'OFFENSES AGAINST MARRIAGE'], dtype=object)"
            ]
          },
          "metadata": {},
          "execution_count": 578
        }
      ]
    },
    {
      "cell_type": "markdown",
      "metadata": {
        "id": "y6K0L-uoLtJU"
      },
      "source": [
        "Below it shows the most common crimes that are being commited in NYC since the beginning of the pandemic."
      ]
    },
    {
      "cell_type": "code",
      "metadata": {
        "colab": {
          "base_uri": "https://localhost:8080/"
        },
        "id": "PUfWVbHE85SE",
        "outputId": "badbd73f-635d-4529-fe9b-bc705fd8334a"
      },
      "source": [
        "# get sum of all offenses\n",
        "df['BORO_NM'].value_counts()"
      ],
      "execution_count": 579,
      "outputs": [
        {
          "output_type": "execute_result",
          "data": {
            "text/plain": [
              "BROOKLYN         90678\n",
              "MANHATTAN        78955\n",
              "QUEENS           69613\n",
              "BRONX            67486\n",
              "STATEN ISLAND    13738\n",
              "Name: BORO_NM, dtype: int64"
            ]
          },
          "metadata": {},
          "execution_count": 579
        }
      ]
    },
    {
      "cell_type": "markdown",
      "metadata": {
        "id": "zHHXrKdYL1fU"
      },
      "source": [
        "From the data shown below, it seems that Brooklyn was the top borough for crimes since the Pandemic."
      ]
    },
    {
      "cell_type": "code",
      "metadata": {
        "colab": {
          "base_uri": "https://localhost:8080/"
        },
        "id": "WuSvz61FK3YH",
        "outputId": "faa8978e-a128-4146-8180-5b84e5fd0c8d"
      },
      "source": [
        "df['BORO_NM'].value_counts()"
      ],
      "execution_count": 580,
      "outputs": [
        {
          "output_type": "execute_result",
          "data": {
            "text/plain": [
              "BROOKLYN         90678\n",
              "MANHATTAN        78955\n",
              "QUEENS           69613\n",
              "BRONX            67486\n",
              "STATEN ISLAND    13738\n",
              "Name: BORO_NM, dtype: int64"
            ]
          },
          "metadata": {},
          "execution_count": 580
        }
      ]
    },
    {
      "cell_type": "markdown",
      "metadata": {
        "id": "P1XsjvikL8bB"
      },
      "source": [
        "Total number of crimes made since March 2020"
      ]
    },
    {
      "cell_type": "code",
      "metadata": {
        "id": "eeSu-H_3PGNQ",
        "colab": {
          "base_uri": "https://localhost:8080/"
        },
        "outputId": "a348dc13-3ac1-4fb5-8ed4-d558067ffe7b"
      },
      "source": [
        "df['BORO_NM'].value_counts().sum()"
      ],
      "execution_count": 581,
      "outputs": [
        {
          "output_type": "execute_result",
          "data": {
            "text/plain": [
              "320470"
            ]
          },
          "metadata": {},
          "execution_count": 581
        }
      ]
    },
    {
      "cell_type": "markdown",
      "metadata": {
        "id": "8yYvMh_2MVT3"
      },
      "source": [
        "Percentage change in crime rates monthly"
      ]
    },
    {
      "cell_type": "code",
      "metadata": {
        "colab": {
          "base_uri": "https://localhost:8080/",
          "height": 781
        },
        "id": "uigjwUDhMUSL",
        "outputId": "7e7679cb-d5a0-4200-9dca-6cd611d58f8a"
      },
      "source": [
        "# turn complaint from dates (when the crime happened) to datetime\n",
        "df['CMPLNT_FR_DT'] = pd.to_datetime(df['CMPLNT_FR_DT'])\n",
        "# turn it into monthly format\n",
        "df['monthly'] = df['CMPLNT_FR_DT'].dt.to_period('M')\n",
        "group = df.groupby(['monthly'])\n",
        "monthly = df['monthly'].value_counts(sort=False)\n",
        "print(\"Total monthly crimes (based off complaint from Date)\")\n",
        "display(monthly)\n",
        "# percentage change in crimes through the months\n",
        "print(\"\\n\")\n",
        "print('Monthly changes in percentage')\n",
        "monthly.pct_change()*100\n"
      ],
      "execution_count": 582,
      "outputs": [
        {
          "output_type": "stream",
          "name": "stdout",
          "text": [
            "Total monthly crimes (based off complaint from Date)\n"
          ]
        },
        {
          "output_type": "display_data",
          "data": {
            "text/plain": [
              "2020-03      235\n",
              "2020-04      189\n",
              "2020-05      158\n",
              "2020-06      221\n",
              "2020-07      281\n",
              "2020-08      405\n",
              "2020-09      400\n",
              "2020-10      655\n",
              "2020-11     1174\n",
              "2020-12     2789\n",
              "2021-01    32761\n",
              "2021-02    28128\n",
              "2021-03    34321\n",
              "2021-04    32271\n",
              "2021-05    36379\n",
              "2021-06    37020\n",
              "2021-07    38721\n",
              "2021-08    37889\n",
              "2021-09    36473\n",
              "Freq: M, Name: monthly, dtype: int64"
            ]
          },
          "metadata": {}
        },
        {
          "output_type": "stream",
          "name": "stdout",
          "text": [
            "\n",
            "\n",
            "Monthly changes in percentage\n"
          ]
        },
        {
          "output_type": "execute_result",
          "data": {
            "text/plain": [
              "2020-03            NaN\n",
              "2020-04     -19.574468\n",
              "2020-05     -16.402116\n",
              "2020-06      39.873418\n",
              "2020-07      27.149321\n",
              "2020-08      44.128114\n",
              "2020-09      -1.234568\n",
              "2020-10      63.750000\n",
              "2020-11      79.236641\n",
              "2020-12     137.563884\n",
              "2021-01    1074.650412\n",
              "2021-02     -14.141815\n",
              "2021-03      22.017207\n",
              "2021-04      -5.973019\n",
              "2021-05      12.729695\n",
              "2021-06       1.762006\n",
              "2021-07       4.594814\n",
              "2021-08      -2.148705\n",
              "2021-09      -3.737232\n",
              "Freq: M, Name: monthly, dtype: float64"
            ]
          },
          "metadata": {},
          "execution_count": 582
        }
      ]
    },
    {
      "cell_type": "markdown",
      "metadata": {
        "id": "JpfE_ai0EkOL"
      },
      "source": [
        "# **Data Visualization**"
      ]
    },
    {
      "cell_type": "markdown",
      "metadata": {
        "id": "2AKh4C9-84nq"
      },
      "source": [
        "Below I have created a bar graph to show the top 20 most common crimes done in NYC since COVID-19 started. As you can see it shows that petit larceny is the most common crime, which is essentially theft."
      ]
    },
    {
      "cell_type": "code",
      "metadata": {
        "id": "TzBP2KwxE44l",
        "colab": {
          "base_uri": "https://localhost:8080/",
          "height": 586
        },
        "outputId": "0b87b5d8-f66b-451e-dd3a-8fa7d5ca35ea"
      },
      "source": [
        "bar = df['OFNS_DESC'].value_counts()[:20].sort_values().plot(kind=\"bar\", color='#86bf91', zorder=2, width=0.85, title = \"Crimes\")\n",
        "bar.spines['right'].set_visible(False)\n",
        "bar.spines['top'].set_visible(False)\n",
        "bar.spines['left'].set_visible(False)\n",
        "bar.spines['bottom'].set_visible(False)\n",
        "bar.set_xlabel(\"Types Of Crimes\", labelpad=20, weight='bold', size=12)\n",
        "# Set y-axis label\n",
        "bar.set_ylabel(\"Crime Count\", labelpad=20, weight='bold', size=12)\n",
        "\n",
        "plt.show()"
      ],
      "execution_count": 592,
      "outputs": [
        {
          "output_type": "display_data",
          "data": {
            "image/png": "[encoded data removed]",
            "text/plain": [
              "<Figure size 432x288 with 1 Axes>"
            ]
          },
          "metadata": {}
        }
      ]
    },
    {
      "cell_type": "markdown",
      "metadata": {
        "id": "iMkpWrKxTcAj"
      },
      "source": [
        "Since Petit Larceny is the most common crime. I am going to do an analysis on that crime. As shown there are over 60,000 cases of petit larceny since COVID."
      ]
    },
    {
      "cell_type": "code",
      "metadata": {
        "colab": {
          "base_uri": "https://localhost:8080/",
          "height": 808
        },
        "id": "XIfQwoETTmPP",
        "outputId": "a9a97831-85ba-4a3a-a529-6d0c8e124003"
      },
      "source": [
        "petit_larceny = df[df.OFNS_DESC.str.contains('PETIT LARCENY')]\n",
        "display(petit_larceny)"
      ],
      "execution_count": 639,
      "outputs": [
        {
          "output_type": "display_data",
          "data": {
            "text/html": [
              "<div>\n",
              "<style scoped>\n",
              "    .dataframe tbody tr th:only-of-type {\n",
              "        vertical-align: middle;\n",
              "    }\n",
              "\n",
              "    .dataframe tbody tr th {\n",
              "        vertical-align: top;\n",
              "    }\n",
              "\n",
              "    .dataframe thead th {\n",
              "        text-align: right;\n",
              "    }\n",
              "</style>\n",
              "<table border=\"1\" class=\"dataframe\">\n",
              "  <thead>\n",
              "    <tr style=\"text-align: right;\">\n",
              "      <th></th>\n",
              "      <th>CMPLNT_NUM</th>\n",
              "      <th>BORO_NM</th>\n",
              "      <th>CMPLNT_FR_DT</th>\n",
              "      <th>CMPLNT_FR_TM</th>\n",
              "      <th>JURIS_DESC</th>\n",
              "      <th>KY_CD</th>\n",
              "      <th>LAW_CAT_CD</th>\n",
              "      <th>LOC_OF_OCCUR_DESC</th>\n",
              "      <th>OFNS_DESC</th>\n",
              "      <th>RPT_DT</th>\n",
              "      <th>VIC_AGE_GROUP</th>\n",
              "      <th>VIC_RACE</th>\n",
              "      <th>VIC_SEX</th>\n",
              "      <th>X_COORD_CD</th>\n",
              "      <th>Y_COORD_CD</th>\n",
              "      <th>Latitude</th>\n",
              "      <th>Longitude</th>\n",
              "      <th>Lat_Lon</th>\n",
              "      <th>New Georeferenced Column</th>\n",
              "      <th>monthly</th>\n",
              "      <th>month</th>\n",
              "    </tr>\n",
              "  </thead>\n",
              "  <tbody>\n",
              "    <tr>\n",
              "      <th>16</th>\n",
              "      <td>941960858</td>\n",
              "      <td>BRONX</td>\n",
              "      <td>2021-07-13</td>\n",
              "      <td>17:00:00</td>\n",
              "      <td>N.Y. POLICE DEPT</td>\n",
              "      <td>341</td>\n",
              "      <td>MISDEMEANOR</td>\n",
              "      <td>NaN</td>\n",
              "      <td>PETIT LARCENY</td>\n",
              "      <td>07/13/2021</td>\n",
              "      <td>25-44</td>\n",
              "      <td>BLACK</td>\n",
              "      <td>M</td>\n",
              "      <td>1010183</td>\n",
              "      <td>241018</td>\n",
              "      <td>40.828184</td>\n",
              "      <td>-73.906295</td>\n",
              "      <td>(40.82818438900005, -73.90629512299995)</td>\n",
              "      <td>POINT (-73.90629512299995 40.82818438900005)</td>\n",
              "      <td>2021-07</td>\n",
              "      <td>07</td>\n",
              "    </tr>\n",
              "    <tr>\n",
              "      <th>45</th>\n",
              "      <td>570522952</td>\n",
              "      <td>MANHATTAN</td>\n",
              "      <td>2021-01-14</td>\n",
              "      <td>12:00:00</td>\n",
              "      <td>N.Y. POLICE DEPT</td>\n",
              "      <td>341</td>\n",
              "      <td>MISDEMEANOR</td>\n",
              "      <td>NaN</td>\n",
              "      <td>PETIT LARCENY</td>\n",
              "      <td>01/14/2021</td>\n",
              "      <td>UNKNOWN</td>\n",
              "      <td>UNKNOWN</td>\n",
              "      <td>D</td>\n",
              "      <td>999321</td>\n",
              "      <td>229329</td>\n",
              "      <td>40.796127</td>\n",
              "      <td>-73.945570</td>\n",
              "      <td>(40.796126551000036, -73.94557011499995)</td>\n",
              "      <td>POINT (-73.94557011499995 40.796126551000036)</td>\n",
              "      <td>2021-01</td>\n",
              "      <td>01</td>\n",
              "    </tr>\n",
              "    <tr>\n",
              "      <th>51</th>\n",
              "      <td>161752033</td>\n",
              "      <td>QUEENS</td>\n",
              "      <td>2021-09-29</td>\n",
              "      <td>22:00:00</td>\n",
              "      <td>N.Y. POLICE DEPT</td>\n",
              "      <td>341</td>\n",
              "      <td>MISDEMEANOR</td>\n",
              "      <td>INSIDE</td>\n",
              "      <td>PETIT LARCENY</td>\n",
              "      <td>09/30/2021</td>\n",
              "      <td>45-64</td>\n",
              "      <td>UNKNOWN</td>\n",
              "      <td>M</td>\n",
              "      <td>1008811</td>\n",
              "      <td>194221</td>\n",
              "      <td>40.699743</td>\n",
              "      <td>-73.911424</td>\n",
              "      <td>(40.69974268200008, -73.91142368699997)</td>\n",
              "      <td>POINT (-73.91142368699997 40.69974268200008)</td>\n",
              "      <td>2021-09</td>\n",
              "      <td>09</td>\n",
              "    </tr>\n",
              "    <tr>\n",
              "      <th>54</th>\n",
              "      <td>300688975</td>\n",
              "      <td>BROOKLYN</td>\n",
              "      <td>2021-09-25</td>\n",
              "      <td>18:30:00</td>\n",
              "      <td>N.Y. POLICE DEPT</td>\n",
              "      <td>341</td>\n",
              "      <td>MISDEMEANOR</td>\n",
              "      <td>FRONT OF</td>\n",
              "      <td>PETIT LARCENY</td>\n",
              "      <td>09/27/2021</td>\n",
              "      <td>25-44</td>\n",
              "      <td>WHITE HISPANIC</td>\n",
              "      <td>F</td>\n",
              "      <td>1013581</td>\n",
              "      <td>188326</td>\n",
              "      <td>40.683548</td>\n",
              "      <td>-73.894247</td>\n",
              "      <td>(40.68354775200004, -73.89424665199994)</td>\n",
              "      <td>POINT (-73.89424665199994 40.68354775200004)</td>\n",
              "      <td>2021-09</td>\n",
              "      <td>09</td>\n",
              "    </tr>\n",
              "    <tr>\n",
              "      <th>57</th>\n",
              "      <td>495707686</td>\n",
              "      <td>BRONX</td>\n",
              "      <td>2021-07-15</td>\n",
              "      <td>08:00:00</td>\n",
              "      <td>N.Y. POLICE DEPT</td>\n",
              "      <td>341</td>\n",
              "      <td>MISDEMEANOR</td>\n",
              "      <td>INSIDE</td>\n",
              "      <td>PETIT LARCENY</td>\n",
              "      <td>09/27/2021</td>\n",
              "      <td>45-64</td>\n",
              "      <td>BLACK HISPANIC</td>\n",
              "      <td>M</td>\n",
              "      <td>1008427</td>\n",
              "      <td>245745</td>\n",
              "      <td>40.841164</td>\n",
              "      <td>-73.912623</td>\n",
              "      <td>(40.84116361700006, -73.91262321499994)</td>\n",
              "      <td>POINT (-73.91262321499994 40.84116361700006)</td>\n",
              "      <td>2021-07</td>\n",
              "      <td>09</td>\n",
              "    </tr>\n",
              "    <tr>\n",
              "      <th>...</th>\n",
              "      <td>...</td>\n",
              "      <td>...</td>\n",
              "      <td>...</td>\n",
              "      <td>...</td>\n",
              "      <td>...</td>\n",
              "      <td>...</td>\n",
              "      <td>...</td>\n",
              "      <td>...</td>\n",
              "      <td>...</td>\n",
              "      <td>...</td>\n",
              "      <td>...</td>\n",
              "      <td>...</td>\n",
              "      <td>...</td>\n",
              "      <td>...</td>\n",
              "      <td>...</td>\n",
              "      <td>...</td>\n",
              "      <td>...</td>\n",
              "      <td>...</td>\n",
              "      <td>...</td>\n",
              "      <td>...</td>\n",
              "      <td>...</td>\n",
              "    </tr>\n",
              "    <tr>\n",
              "      <th>321314</th>\n",
              "      <td>349027851</td>\n",
              "      <td>QUEENS</td>\n",
              "      <td>2021-01-07</td>\n",
              "      <td>03:30:00</td>\n",
              "      <td>N.Y. POLICE DEPT</td>\n",
              "      <td>341</td>\n",
              "      <td>MISDEMEANOR</td>\n",
              "      <td>INSIDE</td>\n",
              "      <td>PETIT LARCENY</td>\n",
              "      <td>01/07/2021</td>\n",
              "      <td>UNKNOWN</td>\n",
              "      <td>UNKNOWN</td>\n",
              "      <td>D</td>\n",
              "      <td>1024425</td>\n",
              "      <td>191707</td>\n",
              "      <td>40.692785</td>\n",
              "      <td>-73.855128</td>\n",
              "      <td>(40.69278523400004, -73.85512781899996)</td>\n",
              "      <td>POINT (-73.85512781899996 40.69278523400004)</td>\n",
              "      <td>2021-01</td>\n",
              "      <td>01</td>\n",
              "    </tr>\n",
              "    <tr>\n",
              "      <th>321323</th>\n",
              "      <td>888086640</td>\n",
              "      <td>BRONX</td>\n",
              "      <td>2021-01-06</td>\n",
              "      <td>18:00:00</td>\n",
              "      <td>N.Y. POLICE DEPT</td>\n",
              "      <td>341</td>\n",
              "      <td>MISDEMEANOR</td>\n",
              "      <td>OPPOSITE OF</td>\n",
              "      <td>PETIT LARCENY</td>\n",
              "      <td>01/07/2021</td>\n",
              "      <td>25-44</td>\n",
              "      <td>BLACK</td>\n",
              "      <td>M</td>\n",
              "      <td>1010172</td>\n",
              "      <td>234265</td>\n",
              "      <td>40.809649</td>\n",
              "      <td>-73.906361</td>\n",
              "      <td>(40.809649344000036, -73.906360954)</td>\n",
              "      <td>POINT (-73.906360954 40.809649344000036)</td>\n",
              "      <td>2021-01</td>\n",
              "      <td>01</td>\n",
              "    </tr>\n",
              "    <tr>\n",
              "      <th>321324</th>\n",
              "      <td>594445596</td>\n",
              "      <td>BRONX</td>\n",
              "      <td>2020-10-01</td>\n",
              "      <td>13:21:00</td>\n",
              "      <td>N.Y. POLICE DEPT</td>\n",
              "      <td>341</td>\n",
              "      <td>MISDEMEANOR</td>\n",
              "      <td>FRONT OF</td>\n",
              "      <td>PETIT LARCENY</td>\n",
              "      <td>01/04/2021</td>\n",
              "      <td>UNKNOWN</td>\n",
              "      <td>UNKNOWN</td>\n",
              "      <td>D</td>\n",
              "      <td>1022242</td>\n",
              "      <td>239684</td>\n",
              "      <td>40.824479</td>\n",
              "      <td>-73.862729</td>\n",
              "      <td>(40.82447930500007, -73.86272873299998)</td>\n",
              "      <td>POINT (-73.86272873299998 40.82447930500007)</td>\n",
              "      <td>2020-10</td>\n",
              "      <td>01</td>\n",
              "    </tr>\n",
              "    <tr>\n",
              "      <th>321330</th>\n",
              "      <td>252215072</td>\n",
              "      <td>QUEENS</td>\n",
              "      <td>2021-01-04</td>\n",
              "      <td>08:00:00</td>\n",
              "      <td>N.Y. POLICE DEPT</td>\n",
              "      <td>341</td>\n",
              "      <td>MISDEMEANOR</td>\n",
              "      <td>FRONT OF</td>\n",
              "      <td>PETIT LARCENY</td>\n",
              "      <td>01/04/2021</td>\n",
              "      <td>25-44</td>\n",
              "      <td>WHITE</td>\n",
              "      <td>M</td>\n",
              "      <td>1008352</td>\n",
              "      <td>216512</td>\n",
              "      <td>40.760927</td>\n",
              "      <td>-73.912999</td>\n",
              "      <td>(40.76092726300004, -73.91299919999993)</td>\n",
              "      <td>POINT (-73.91299919999993 40.76092726300004)</td>\n",
              "      <td>2021-01</td>\n",
              "      <td>01</td>\n",
              "    </tr>\n",
              "    <tr>\n",
              "      <th>321336</th>\n",
              "      <td>237025556</td>\n",
              "      <td>QUEENS</td>\n",
              "      <td>2021-01-05</td>\n",
              "      <td>09:30:00</td>\n",
              "      <td>N.Y. POLICE DEPT</td>\n",
              "      <td>341</td>\n",
              "      <td>MISDEMEANOR</td>\n",
              "      <td>FRONT OF</td>\n",
              "      <td>PETIT LARCENY</td>\n",
              "      <td>01/07/2021</td>\n",
              "      <td>45-64</td>\n",
              "      <td>WHITE</td>\n",
              "      <td>M</td>\n",
              "      <td>1008451</td>\n",
              "      <td>196094</td>\n",
              "      <td>40.704885</td>\n",
              "      <td>-73.912715</td>\n",
              "      <td>(40.704884618000044, -73.91271527399994)</td>\n",
              "      <td>POINT (-73.91271527399994 40.704884618000044)</td>\n",
              "      <td>2021-01</td>\n",
              "      <td>01</td>\n",
              "    </tr>\n",
              "  </tbody>\n",
              "</table>\n",
              "<p>60579 rows × 21 columns</p>\n",
              "</div>"
            ],
            "text/plain": [
              "        CMPLNT_NUM    BORO_NM  ...  monthly month\n",
              "16       941960858      BRONX  ...  2021-07    07\n",
              "45       570522952  MANHATTAN  ...  2021-01    01\n",
              "51       161752033     QUEENS  ...  2021-09    09\n",
              "54       300688975   BROOKLYN  ...  2021-09    09\n",
              "57       495707686      BRONX  ...  2021-07    09\n",
              "...            ...        ...  ...      ...   ...\n",
              "321314   349027851     QUEENS  ...  2021-01    01\n",
              "321323   888086640      BRONX  ...  2021-01    01\n",
              "321324   594445596      BRONX  ...  2020-10    01\n",
              "321330   252215072     QUEENS  ...  2021-01    01\n",
              "321336   237025556     QUEENS  ...  2021-01    01\n",
              "\n",
              "[60579 rows x 21 columns]"
            ]
          },
          "metadata": {}
        }
      ]
    },
    {
      "cell_type": "markdown",
      "metadata": {
        "id": "j2WWcx-WUR6C"
      },
      "source": [
        "The graph of petit larceny shows that the majority of it came from the borough of Manhattan. With a total of 60,579 cases of petit larceny about 19175 were from Manhattan."
      ]
    },
    {
      "cell_type": "code",
      "metadata": {
        "colab": {
          "base_uri": "https://localhost:8080/",
          "height": 403
        },
        "id": "PCzk-k15US4V",
        "outputId": "0fdbb607-1efa-47ce-dfcf-5378ed191bb6"
      },
      "source": [
        "rename = petit_larceny.rename(columns={\"BORO_NM\": \"BOROUGH\"})\n",
        "rename.groupby('BOROUGH').size().plot(kind = 'barh', color = '#AF33FF')\n",
        "total = rename['monthly'].value_counts().sum()\n",
        "display(total)\n",
        "rename['BOROUGH'].value_counts()"
      ],
      "execution_count": 682,
      "outputs": [
        {
          "output_type": "display_data",
          "data": {
            "text/plain": [
              "60579"
            ]
          },
          "metadata": {}
        },
        {
          "output_type": "execute_result",
          "data": {
            "text/plain": [
              "MANHATTAN        19175\n",
              "BROOKLYN         16099\n",
              "QUEENS           13875\n",
              "BRONX             9606\n",
              "STATEN ISLAND     1824\n",
              "Name: BOROUGH, dtype: int64"
            ]
          },
          "metadata": {},
          "execution_count": 682
        },
        {
          "output_type": "display_data",
          "data": {
            "image/png": "[encoded data removed]",
            "text/plain": [
              "<Figure size 432x288 with 1 Axes>"
            ]
          },
          "metadata": {}
        }
      ]
    },
    {
      "cell_type": "markdown",
      "metadata": {
        "id": "i8nvLT5dAsed"
      },
      "source": [
        "The trend in crimes throughout the months since COVID-19 started. The line graph shows that crime rates were reletively low during lockdown and skyrocketed during the new year."
      ]
    },
    {
      "cell_type": "code",
      "metadata": {
        "colab": {
          "base_uri": "https://localhost:8080/",
          "height": 341
        },
        "id": "11A38MHDAtUQ",
        "outputId": "07965656-8feb-4b89-ee38-3b16d65a1bfb"
      },
      "source": [
        "#df['month'] = df['RPT_DT'].str.findall('(\\d{2})').apply(lambda x: x[0])\n",
        "#display(df['month'].size())\n",
        "graph = df.groupby('monthly').size().plot(kind = 'line', title ='Monthly Crimes Since COVID-19', color = '#C0392B')\n",
        "bar.spines['right'].set_visible(False)\n",
        "bar.spines['top'].set_visible(False)\n",
        "bar.spines['left'].set_visible(False)\n",
        "bar.spines['bottom'].set_visible(False)\n",
        "\n",
        "\n"
      ],
      "execution_count": 609,
      "outputs": [
        {
          "output_type": "display_data",
          "data": {
            "image/png": "[encoded data removed]",
            "text/plain": [
              "<Figure size 432x288 with 1 Axes>"
            ]
          },
          "metadata": {}
        }
      ]
    },
    {
      "cell_type": "markdown",
      "metadata": {
        "id": "rc1_htCLOaxM"
      },
      "source": [
        "The trend in crimes in each borough. The graph below shows that since COVID Brooklyn has been having the most crimes.\n"
      ]
    },
    {
      "cell_type": "code",
      "metadata": {
        "colab": {
          "base_uri": "https://localhost:8080/",
          "height": 338
        },
        "id": "C_28NiSqO5UE",
        "outputId": "76547542-4e05-48e1-9c70-3279d5f11d0b"
      },
      "source": [
        "display(df['BORO_NM'].value_counts().sort_values().plot.barh(x='monthly', title = 'Total of Crime Events by Borough'))\n",
        "bar.spines['right'].set_visible(False)\n",
        "bar.spines['top'].set_visible(False)\n",
        "bar.spines['left'].set_visible(False)\n",
        "bar.spines['bottom'].set_visible(False)\n",
        "graph.axhline(y = 0, color = 'black', linewidth = 1.3, alpha = .7)\n"
      ],
      "execution_count": 633,
      "outputs": [
        {
          "output_type": "display_data",
          "data": {
            "text/plain": [
              "<matplotlib.axes._subplots.AxesSubplot at 0x7f9404fc9b50>"
            ]
          },
          "metadata": {}
        },
        {
          "output_type": "execute_result",
          "data": {
            "text/plain": [
              "<matplotlib.lines.Line2D at 0x7f9404fca790>"
            ]
          },
          "metadata": {},
          "execution_count": 633
        },
        {
          "output_type": "display_data",
          "data": {
            "image/png": "[encoded data removed]",
            "text/plain": [
              "<Figure size 432x288 with 1 Axes>"
            ]
          },
          "metadata": {}
        }
      ]
    }
  ]
}